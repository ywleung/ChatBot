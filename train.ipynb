{
 "cells": [
  {
   "cell_type": "code",
   "execution_count": 1,
   "metadata": {},
   "outputs": [
    {
     "name": "stdout",
     "output_type": "stream",
     "text": [
      "[nltk_data] Downloading package stopwords to\n",
      "[nltk_data]     C:\\Users\\wlyip\\AppData\\Roaming\\nltk_data...\n",
      "[nltk_data]   Package stopwords is already up-to-date!\n"
     ]
    }
   ],
   "source": [
    "%load_ext autoreload\n",
    "%autoreload 2\n",
    "\n",
    "import os\n",
    "import numpy as np\n",
    "import pandas as pd\n",
    "import re\n",
    "import pickle\n",
    "import nltk\n",
    "import datasets\n",
    "import sys\n",
    "import json\n",
    "import pprint\n",
    "import xml.etree.ElementTree as ET\n",
    "import datetime\n",
    "from gzip import GzipFile\n",
    "import warnings\n",
    "warnings.filterwarnings('ignore')\n",
    "\n",
    "nltk.download('stopwords')\n",
    "from nltk.corpus import stopwords\n",
    "\n",
    "from sklearn.metrics.pairwise import pairwise_distances_argmin"
   ]
  },
  {
   "cell_type": "code",
   "execution_count": 2,
   "metadata": {},
   "outputs": [
    {
     "name": "stderr",
     "output_type": "stream",
     "text": [
      "100%|█████████████████████████████████████████████████████████████████████████| 83097/83097 [00:03<00:00, 21479.54it/s]\n"
     ]
    }
   ],
   "source": [
    "cornell_df = datasets.readCornellData('data/cornell', max_len=50)"
   ]
  },
  {
   "cell_type": "code",
   "execution_count": 3,
   "metadata": {
    "scrolled": true
   },
   "outputs": [
    {
     "name": "stdout",
     "output_type": "stream",
     "text": [
      "Loading OpenSubtitles conversations in data/opensubs.\n"
     ]
    },
    {
     "name": "stderr",
     "output_type": "stream",
     "text": [
      "                                                                                                                       \r"
     ]
    },
    {
     "name": "stdout",
     "output_type": "stream",
     "text": [
      "Skipping file data/opensubs\\OpenSubtitles\\xml\\en\\Action\\2003\\602_152466_207871_batoru_rowaiaru_ii_rekuiemu.xml with errors.\n"
     ]
    },
    {
     "name": "stderr",
     "output_type": "stream",
     "text": [
      "                                                                                                                       \r"
     ]
    },
    {
     "name": "stdout",
     "output_type": "stream",
     "text": [
      "Skipping file data/opensubs\\OpenSubtitles\\xml\\en\\Action\\2004\\59_84873_113518_appurushdo.xml with errors.\n"
     ]
    },
    {
     "name": "stderr",
     "output_type": "stream",
     "text": [
      "                                                                                                                       \r"
     ]
    },
    {
     "name": "stdout",
     "output_type": "stream",
     "text": [
      "Skipping file data/opensubs\\OpenSubtitles\\xml\\en\\Comedy\\2003\\529_124078_171007_how_to_lose_a_guy_in_10_days.xml with errors.\n"
     ]
    },
    {
     "name": "stderr",
     "output_type": "stream",
     "text": [
      "                                                                                                                       \r"
     ]
    },
    {
     "name": "stdout",
     "output_type": "stream",
     "text": [
      "Skipping file data/opensubs\\OpenSubtitles\\xml\\en\\Comedy\\2004\\2480_226704_299940_little_black_book.xml with errors.\n"
     ]
    },
    {
     "name": "stderr",
     "output_type": "stream",
     "text": [
      "                                                                                                                       \r"
     ]
    },
    {
     "name": "stdout",
     "output_type": "stream",
     "text": [
      "Skipping file data/opensubs\\OpenSubtitles\\xml\\en\\Drama\\2000\\179_88528_119102_batoru_rowaiaru.xml with errors.\n"
     ]
    },
    {
     "name": "stderr",
     "output_type": "stream",
     "text": [
      "                                                                                                                       \r"
     ]
    },
    {
     "name": "stdout",
     "output_type": "stream",
     "text": [
      "Skipping file data/opensubs\\OpenSubtitles\\xml\\en\\Drama\\2002\\3265_149497_204017_unfaithful.xml with errors.\n"
     ]
    },
    {
     "name": "stderr",
     "output_type": "stream",
     "text": [
      "                                                                                                                       \r"
     ]
    },
    {
     "name": "stdout",
     "output_type": "stream",
     "text": [
      "Skipping file data/opensubs\\OpenSubtitles\\xml\\en\\Drama\\2003\\1723_68784_89159_big_fish.xml with errors.\n"
     ]
    },
    {
     "name": "stderr",
     "output_type": "stream",
     "text": [
      "                                                                                                                       \r"
     ]
    },
    {
     "name": "stdout",
     "output_type": "stream",
     "text": [
      "Skipping file data/opensubs\\OpenSubtitles\\xml\\en\\Drama\\2004\\146_206647_272090_eternal_sunshine_of_the_spotless_mind.xml with errors.\n"
     ]
    },
    {
     "name": "stderr",
     "output_type": "stream",
     "text": [
      "                                                                                                                       \r"
     ]
    },
    {
     "name": "stdout",
     "output_type": "stream",
     "text": [
      "Skipping file data/opensubs\\OpenSubtitles\\xml\\en\\Family\\2001\\3935_19508_22105_cats__dogs.xml with errors.\n"
     ]
    },
    {
     "name": "stderr",
     "output_type": "stream",
     "text": [
      "                                                                                                                       \r"
     ]
    },
    {
     "name": "stdout",
     "output_type": "stream",
     "text": [
      "Skipping file data/opensubs\\OpenSubtitles\\xml\\en\\Horror\\1922\\1166_134135_184270_nosferatu_eine_symphonie_des_grauens.xml with errors.\n"
     ]
    },
    {
     "name": "stderr",
     "output_type": "stream",
     "text": [
      "OpenSubtitles data files: 100%|████████████████████████████████████████████████████| 4634/4634 [02:41<00:00, 28.67it/s]\n",
      "100%|█████████████████████████████████████████████████████████████████████| 1648080/1648080 [00:24<00:00, 68278.90it/s]\n"
     ]
    }
   ],
   "source": [
    "opensubs_df = datasets.readOpensubsData('data/opensubs', max_len=50)"
   ]
  },
  {
   "cell_type": "code",
   "execution_count": 4,
   "metadata": {},
   "outputs": [
    {
     "data": {
      "text/plain": [
       "(1217316, 2)"
      ]
     },
     "execution_count": 4,
     "metadata": {},
     "output_type": "execute_result"
    }
   ],
   "source": [
    "dataset = cornell_df + opensubs_df\n",
    "\n",
    "np.shape(dataset)"
   ]
  },
  {
   "cell_type": "code",
   "execution_count": 5,
   "metadata": {},
   "outputs": [],
   "source": [
    "from sklearn.feature_extraction.text import TfidfVectorizer\n",
    "\n",
    "def tfidf_features(dataset, vectorizer_path):  \n",
    "    tfidf_vectorizer = TfidfVectorizer(min_df=5, max_df=0.9, ngram_range=(1, 2),\n",
    "                                      token_pattern='(\\S+)')\n",
    "\n",
    "    dataset = tfidf_vectorizer.fit_transform(dataset)\n",
    "    pickle.dump(tfidf_vectorizer, open(vectorizer_path, 'wb'))\n",
    "    \n",
    "    return dataset, tfidf_vectorizer.vocabulary_"
   ]
  },
  {
   "cell_type": "code",
   "execution_count": 6,
   "metadata": {},
   "outputs": [],
   "source": [
    "all_sentences = [sent[0] + ' ' + sent[1] for sent in dataset]\n",
    "all_sentences_tfidf, tfidf_vocab = tfidf_features(all_sentences, 'tfidf_vectorizer.pkl')"
   ]
  },
  {
   "cell_type": "code",
   "execution_count": 7,
   "metadata": {},
   "outputs": [
    {
     "data": {
      "text/plain": [
       "281474"
      ]
     },
     "execution_count": 7,
     "metadata": {},
     "output_type": "execute_result"
    }
   ],
   "source": [
    "len(tfidf_vocab)"
   ]
  },
  {
   "cell_type": "code",
   "execution_count": 8,
   "metadata": {},
   "outputs": [],
   "source": [
    "question_list = []\n",
    "for i, sent in enumerate(dataset):\n",
    "    temp_sent = []\n",
    "    for word in sent[0].split(' '):\n",
    "        if word in tfidf_vocab.keys():\n",
    "            temp_sent.append(word)\n",
    "    question_list.append(' '.join(temp_sent))\n",
    "\n",
    "answer_list = []\n",
    "for i, sent in enumerate(dataset):\n",
    "    temp_sent = []\n",
    "    for word in sent[1].split(' '):\n",
    "        if word in tfidf_vocab.keys():\n",
    "            temp_sent.append(word)\n",
    "    answer_list.append(' '.join(temp_sent))"
   ]
  },
  {
   "cell_type": "code",
   "execution_count": 9,
   "metadata": {},
   "outputs": [],
   "source": [
    "prepared_data = []\n",
    "question_answer_id = []\n",
    "for i, (question, answer) in enumerate(zip(question_list, answer_list)):\n",
    "    if len(question) > 0 and len(answer) > 0:\n",
    "        question_answer_id.append(i)\n",
    "        temp_sent = question + '\\t' + answer\n",
    "        prepared_data.append(temp_sent)"
   ]
  },
  {
   "cell_type": "code",
   "execution_count": 14,
   "metadata": {},
   "outputs": [
    {
     "data": {
      "text/plain": [
       "1212689"
      ]
     },
     "execution_count": 14,
     "metadata": {},
     "output_type": "execute_result"
    }
   ],
   "source": [
    "len(question_answer_id)"
   ]
  },
  {
   "cell_type": "code",
   "execution_count": 67,
   "metadata": {},
   "outputs": [],
   "source": [
    "out = open('data/prepared_data_tfidf.tsv', 'w')\n",
    "for line in prepared_data:\n",
    "    print(line, file=out)\n",
    "out.close()"
   ]
  },
  {
   "cell_type": "code",
   "execution_count": 46,
   "metadata": {},
   "outputs": [
    {
     "name": "stdout",
     "output_type": "stream",
     "text": [
      "Arguments: \n",
      "lr: 0.05\n",
      "dim: 100\n",
      "epoch: 5\n",
      "maxTrainTime: 8640000\n",
      "saveEveryEpoch: 0\n",
      "loss: hinge\n",
      "margin: 0.05\n",
      "similarity: cosine\n",
      "maxNegSamples: 10\n",
      "negSearchLimit: 10\n",
      "thread: 4\n",
      "minCount: 2\n",
      "minCountLabel: 1\n",
      "label: __label__\n",
      "ngrams: 1\n",
      "bucket: 2000000\n",
      "adagrad: 1\n",
      "trainMode: 3\n",
      "fileFormat: labelDoc\n",
      "normalizeText: 0\n",
      "dropoutLHS: 0\n",
      "dropoutRHS: 0\n",
      "Start to initialize starspace model.\n",
      "Build dict from input file : data/prepared_data_tfidf.tsv\n",
      "Read 14M words\n",
      "Number of words in dictionary:  39554\n",
      "Number of labels in dictionary: 0\n",
      "Loading data from file : data/prepared_data_tfidf.tsv\n",
      "Total number of examples loaded : 1212689\n",
      "Initialized model weights. Model size :\n",
      "matrix : 39554 100\n",
      "Training epoch 0: 0.05 0.01\n",
      "Epoch: 100.0%  lr: 0.039999  loss: 0.053534  eta: 0h23m  tot: 0h5m48s  (20.0%)  lr: 0.049926  loss: 0.120039  eta: 0h30m  tot: 0h0m2s  (0.1%)0h0m15s  (0.9%)4.6%  lr: 0.049414  loss: 0.087083  eta: 0h29m  tot: 0h0m16s  (0.9%)5.3%  lr: 0.049332  loss: 0.085105  eta: 0h28m  tot: 0h0m18s  (1.1%)%  lr: 0.049092  loss: 0.081033  eta: 0h28m  tot: 0h0m25s  (1.5%)9.0%  lr: 0.048911  loss: 0.078646  eta: 0h28m  tot: 0h0m31s  (1.8%)10.5%  lr: 0.048804  loss: 0.076685  eta: 0h28m  tot: 0h0m36s  (2.1%)12.5%  lr: 0.048672  loss: 0.074479  eta: 0h28m  tot: 0h0m43s  (2.5%)13.0%  lr: 0.048572  loss: 0.073871  eta: 0h28m  tot: 0h0m45s  (2.6%)13.2%  lr: 0.048515  loss: 0.073737  eta: 0h28m  tot: 0h0m46s  (2.6%)14.1%  lr: 0.048432  loss: 0.072923  eta: 0h28m  tot: 0h0m48s  (2.8%)14.9%  lr: 0.048350  loss: 0.072265  eta: 0h27m  tot: 0h0m51s  (3.0%)16.2%  lr: 0.048201  loss: 0.071303  eta: 0h27m  tot: 0h0m56s  (3.2%)17.1%  lr: 0.048044  loss: 0.070667  eta: 0h27m  tot: 0h0m59s  (3.4%)18.8%  lr: 0.047838  loss: 0.069590  eta: 0h27m  tot: 0h1m4s  (3.8%)19.2%  lr: 0.047822  loss: 0.069350  eta: 0h27m  tot: 0h1m6s  (3.8%)20.0%  lr: 0.047731  loss: 0.068901  eta: 0h27m  tot: 0h1m8s  (4.0%)21.9%  lr: 0.047508  loss: 0.067951  eta: 0h27m  tot: 0h1m15s  (4.4%)22.4%  lr: 0.047434  loss: 0.067692  eta: 0h27m  tot: 0h1m17s  (4.5%)22.8%  lr: 0.047401  loss: 0.067490  eta: 0h27m  tot: 0h1m18s  (4.6%)24.0%  lr: 0.047294  loss: 0.066992  eta: 0h27m  tot: 0h1m22s  (4.8%)26.9%  lr: 0.047013  loss: 0.065813  eta: 0h27m  tot: 0h1m32s  (5.4%)28.6%  lr: 0.046840  loss: 0.065130  eta: 0h26m  tot: 0h1m37s  (5.7%)28.9%  lr: 0.046790  loss: 0.065010  eta: 0h26m  tot: 0h1m39s  (5.8%)29.1%  lr: 0.046757  loss: 0.064961  eta: 0h26m  tot: 0h1m39s  (5.8%)29.8%  lr: 0.046691  loss: 0.064700  eta: 0h26m  tot: 0h1m41s  (6.0%)32.5%  lr: 0.046336  loss: 0.063928  eta: 0h26m  tot: 0h1m50s  (6.5%)33.4%  lr: 0.046237  loss: 0.063634  eta: 0h26m  tot: 0h1m53s  (6.7%)36.6%  lr: 0.045940  loss: 0.062681  eta: 0h26m  tot: 0h2m4s  (7.3%)37.5%  lr: 0.045882  loss: 0.062470  eta: 0h26m  tot: 0h2m7s  (7.5%)38.5%  lr: 0.045792  loss: 0.062219  eta: 0h26m  tot: 0h2m10s  (7.7%)41.4%  lr: 0.045511  loss: 0.061480  eta: 0h26m  tot: 0h2m22s  (8.3%)44.9%  lr: 0.045239  loss: 0.060729  eta: 0h26m  tot: 0h2m35s  (9.0%)45.4%  lr: 0.045181  loss: 0.060609  eta: 0h26m  tot: 0h2m36s  (9.1%)46.5%  lr: 0.045099  loss: 0.060355  eta: 0h26m  tot: 0h2m40s  (9.3%)47.9%  lr: 0.044934  loss: 0.060076  eta: 0h25m  tot: 0h2m45s  (9.6%)48.0%  lr: 0.044909  loss: 0.060043  eta: 0h25m  tot: 0h2m45s  (9.6%)49.6%  lr: 0.044785  loss: 0.059746  eta: 0h25m  tot: 0h2m50s  (9.9%)53.6%  lr: 0.044298  loss: 0.059075  eta: 0h25m  tot: 0h3m4s  (10.7%)54.0%  lr: 0.044282  loss: 0.059021  eta: 0h25m  tot: 0h3m5s  (10.8%)58.2%  lr: 0.043803  loss: 0.058353  eta: 0h25m  tot: 0h3m22s  (11.6%)59.0%  lr: 0.043721  loss: 0.058228  eta: 0h25m  tot: 0h3m26s  (11.8%)64.9%  lr: 0.043151  loss: 0.057300  eta: 0h25m  tot: 0h3m46s  (13.0%)65.3%  lr: 0.043126  loss: 0.057262  eta: 0h25m  tot: 0h3m47s  (13.1%)66.2%  lr: 0.043019  loss: 0.057152  eta: 0h25m  tot: 0h3m50s  (13.2%)67.6%  lr: 0.042854  loss: 0.056985  eta: 0h25m  tot: 0h3m54s  (13.5%)69.9%  lr: 0.042631  loss: 0.056654  eta: 0h24m  tot: 0h4m2s  (14.0%)73.8%  lr: 0.042161  loss: 0.056156  eta: 0h24m  tot: 0h4m18s  (14.8%)78.3%  lr: 0.041682  loss: 0.055639  eta: 0h24m  tot: 0h4m34s  (15.7%)h4m34s  (15.7%)82.4%  lr: 0.041237  loss: 0.055202  eta: 0h24m  tot: 0h4m47s  (16.5%)84.5%  lr: 0.041055  loss: 0.054974  eta: 0h24m  tot: 0h4m54s  (16.9%)84.6%  lr: 0.041055  loss: 0.054964  eta: 0h24m  tot: 0h4m55s  (16.9%)84.8%  lr: 0.041031  loss: 0.054945  eta: 0h24m  tot: 0h4m55s  (17.0%)87.1%  lr: 0.040800  loss: 0.054715  eta: 0h24m  tot: 0h5m4s  (17.4%)0h5m11s  (17.7%)89.9%  lr: 0.040569  loss: 0.054427  eta: 0h24m  tot: 0h5m16s  (18.0%)91.4%  lr: 0.040478  loss: 0.054294  eta: 0h24m  tot: 0h5m22s  (18.3%)91.5%  lr: 0.040478  loss: 0.054291  eta: 0h24m  tot: 0h5m22s  (18.3%)0h5m27s  (18.6%)\n",
      " ---+++                Epoch    0 Train error : 0.05384275 +++--- ���\n",
      "Training epoch 1: 0.04 0.01\n",
      "Epoch: 100.0%  lr: 0.029999  loss: 0.029947  eta: 0h17m  tot: 0h11m39s  (40.0%)%  lr: 0.040000  loss: 0.029904  eta: 0h19m  tot: 0h5m48s  (20.0%)3.3%  lr: 0.039637  loss: 0.029730  eta: 0h20m  tot: 0h5m58s  (20.7%)%  lr: 0.039571  loss: 0.029624  eta: 0h20m  tot: 0h6m0s  (20.7%)4.1%  lr: 0.039554  loss: 0.029544  eta: 0h20m  tot: 0h6m1s  (20.8%)4.6%  lr: 0.039472  loss: 0.029682  eta: 0h20m  tot: 0h6m2s  (20.9%)5.0%  lr: 0.039455  loss: 0.029608  eta: 0h20m  tot: 0h6m4s  (21.0%)6.4%  lr: 0.039274  loss: 0.029330  eta: 0h20m  tot: 0h6m8s  (21.3%)8.1%  lr: 0.039068  loss: 0.029541  eta: 0h20m  tot: 0h6m14s  (21.6%)10.0%  lr: 0.038878  loss: 0.029716  eta: 0h21m  tot: 0h6m21s  (22.0%)  eta: 0h21m  tot: 0h6m23s  (22.1%)11.3%  lr: 0.038762  loss: 0.029751  eta: 0h21m  tot: 0h6m26s  (22.3%)12.3%  lr: 0.038680  loss: 0.029710  eta: 0h22m  tot: 0h6m30s  (22.5%)15.8%  lr: 0.038341  loss: 0.029765  eta: 0h21m  tot: 0h6m42s  (23.2%)18.5%  lr: 0.038102  loss: 0.029759  eta: 0h21m  tot: 0h6m51s  (23.7%)20.1%  lr: 0.037970  loss: 0.029741  eta: 0h21m  tot: 0h6m56s  (24.0%)20.2%  lr: 0.037970  loss: 0.029744  eta: 0h21m  tot: 0h6m56s  (24.0%)21.7%  lr: 0.037756  loss: 0.029717  eta: 0h20m  tot: 0h7m1s  (24.3%)21.8%  lr: 0.037747  loss: 0.029730  eta: 0h20m  tot: 0h7m1s  (24.4%)s  (25.2%)27.4%  lr: 0.037062  loss: 0.029799  eta: 0h21m  tot: 0h7m22s  (25.5%)29.1%  lr: 0.036914  loss: 0.029758  eta: 0h21m  tot: 0h7m28s  (25.8%) (26.1%)31.9%  lr: 0.036584  loss: 0.029835  eta: 0h20m  tot: 0h7m37s  (26.4%)33.1%  lr: 0.036468  loss: 0.029819  eta: 0h20m  tot: 0h7m41s  (26.6%)33.9%  lr: 0.036378  loss: 0.029810  eta: 0h20m  tot: 0h7m43s  (26.8%)34.7%  lr: 0.036279  loss: 0.029818  eta: 0h20m  tot: 0h7m46s  (26.9%)35.5%  lr: 0.036155  loss: 0.029823  eta: 0h20m  tot: 0h7m48s  (27.1%)35.9%  lr: 0.036097  loss: 0.029828  eta: 0h20m  tot: 0h7m50s  (27.2%)38.4%  lr: 0.035816  loss: 0.029836  eta: 0h20m  tot: 0h7m57s  (27.7%)41.4%  lr: 0.035528  loss: 0.029850  eta: 0h20m  tot: 0h8m9s  (28.3%)43.7%  lr: 0.035272  loss: 0.029854  eta: 0h20m  tot: 0h8m18s  (28.7%)0h8m26s  (29.2%)50.7%  lr: 0.034546  loss: 0.029849  eta: 0h19m  tot: 0h8m39s  (30.1%)51.0%  lr: 0.034521  loss: 0.029857  eta: 0h19m  tot: 0h8m41s  (30.2%)52.1%  lr: 0.034447  loss: 0.029832  eta: 0h19m  tot: 0h8m44s  (30.4%)52.2%  lr: 0.034414  loss: 0.029824  eta: 0h19m  tot: 0h8m44s  (30.4%)54.1%  lr: 0.034273  loss: 0.029837  eta: 0h19m  tot: 0h8m51s  (30.8%)%  lr: 0.034191  loss: 0.029844  eta: 0h19m  tot: 0h8m55s  (31.0%)56.3%  lr: 0.034018  loss: 0.029830  eta: 0h19m  tot: 0h9m0s  (31.3%)56.6%  lr: 0.033993  loss: 0.029827  eta: 0h19m  tot: 0h9m2s  (31.3%)59.2%  lr: 0.033712  loss: 0.029862  eta: 0h19m  tot: 0h9m13s  (31.8%)59.6%  lr: 0.033679  loss: 0.029859  eta: 0h19m  tot: 0h9m15s  (31.9%)22s  (32.3%)61.4%  lr: 0.033539  loss: 0.029886  eta: 0h19m  tot: 0h9m22s  (32.3%)%  lr: 0.032978  loss: 0.029922  eta: 0h19m  tot: 0h9m39s  (33.3%)66.6%  lr: 0.032937  loss: 0.029928  eta: 0h19m  tot: 0h9m40s  (33.3%)66.9%  lr: 0.032904  loss: 0.029938  eta: 0h19m  tot: 0h9m40s  (33.4%)69.2%  lr: 0.032673  loss: 0.029917  eta: 0h19m  tot: 0h9m49s  (33.8%)70.1%  lr: 0.032607  loss: 0.029916  eta: 0h19m  tot: 0h9m53s  (34.0%)%)72.0%  lr: 0.032433  loss: 0.029913  eta: 0h19m  tot: 0h10m0s  (34.4%)73.3%  lr: 0.032277  loss: 0.029914  eta: 0h19m  tot: 0h10m6s  (34.7%)78.6%  lr: 0.031649  loss: 0.029926  eta: 0h18m  tot: 0h10m25s  (35.7%)79.7%  lr: 0.031526  loss: 0.029922  eta: 0h18m  tot: 0h10m29s  (35.9%)80.5%  lr: 0.031476  loss: 0.029915  eta: 0h18m  tot: 0h10m31s  (36.1%)81.4%  lr: 0.031394  loss: 0.029921  eta: 0h18m  tot: 0h10m34s  (36.3%)81.7%  lr: 0.031328  loss: 0.029925  eta: 0h18m  tot: 0h10m35s  (36.3%)82.4%  lr: 0.031262  loss: 0.029920  eta: 0h18m  tot: 0h10m37s  (36.5%)88.3%  lr: 0.030651  loss: 0.029923  eta: 0h18m  tot: 0h11m0s  (37.7%)89.3%  lr: 0.030569  loss: 0.029928  eta: 0h18m  tot: 0h11m4s  (37.9%)89.6%  lr: 0.030552  loss: 0.029929  eta: 0h18m  tot: 0h11m5s  (37.9%)89.6%  lr: 0.030544  loss: 0.029930  eta: 0h18m  tot: 0h11m6s  (37.9%)m  tot: 0h11m7s  (38.0%)89.9%  lr: 0.030511  loss: 0.029926  eta: 0h18m  tot: 0h11m7s  (38.0%)m  tot: 0h11m17s  (38.5%)0.029924  eta: 0h18m  tot: 0h11m19s  (38.7%)\n",
      " ---+++                Epoch    1 Train error : 0.03003791 +++--- ���\n",
      "Training epoch 2: 0.03 0.01\n"
     ]
    },
    {
     "name": "stdout",
     "output_type": "stream",
     "text": [
      "Epoch: 100.0%  lr: 0.019999  loss: 0.024594  eta: 0h11m  tot: 0h17m15s  (60.0%)7%  lr: 0.029175  loss: 0.023886  eta: 0h16m  tot: 0h12m4s  (41.5%)8.0%  lr: 0.029142  loss: 0.023883  eta: 0h16m  tot: 0h12m5s  (41.6%)8.6%  lr: 0.029068  loss: 0.023977  eta: 0h16m  tot: 0h12m8s  (41.7%)10.1%  lr: 0.028985  loss: 0.024096  eta: 0h16m  tot: 0h12m13s  (42.0%)10.4%  lr: 0.028969  loss: 0.024095  eta: 0h16m  tot: 0h12m15s  (42.1%)11.1%  lr: 0.028919  loss: 0.024111  eta: 0h16m  tot: 0h12m17s  (42.2%)12.8%  lr: 0.028688  loss: 0.024223  eta: 0h16m  tot: 0h12m24s  (42.6%)12.9%  lr: 0.028663  loss: 0.024241  eta: 0h16m  tot: 0h12m24s  (42.6%)13.4%  lr: 0.028655  loss: 0.024215  eta: 0h16m  tot: 0h12m26s  (42.7%)h12m27s  (42.7%)m29s  (42.8%)16.0%  lr: 0.028416  loss: 0.024184  eta: 0h16m  tot: 0h12m35s  (43.2%)18.6%  lr: 0.028176  loss: 0.024155  eta: 0h16m  tot: 0h12m43s  (43.7%)18.9%  lr: 0.028143  loss: 0.024136  eta: 0h16m  tot: 0h12m44s  (43.8%)19.0%  lr: 0.028135  loss: 0.024122  eta: 0h16m  tot: 0h12m44s  (43.8%)19.6%  lr: 0.028044  loss: 0.024091  eta: 0h15m  tot: 0h12m46s  (43.9%)20.5%  lr: 0.027945  loss: 0.024106  eta: 0h15m  tot: 0h12m49s  (44.1%)21.2%  lr: 0.027863  loss: 0.024126  eta: 0h15m  tot: 0h12m51s  (44.2%)24.5%  lr: 0.027442  loss: 0.024173  eta: 0h15m  tot: 0h13m4s  (44.9%)27.3%  lr: 0.027137  loss: 0.024165  eta: 0h15m  tot: 0h13m14s  (45.5%)h13m19s  (45.7%)28.5%  lr: 0.027029  loss: 0.024214  eta: 0h15m  tot: 0h13m19s  (45.7%)28.9%  lr: 0.027021  loss: 0.024213  eta: 0h15m  tot: 0h13m21s  (45.8%)29.1%  lr: 0.026996  loss: 0.024210  eta: 0h15m  tot: 0h13m22s  (45.8%)0h13m27s  (46.1%)31.9%  lr: 0.026683  loss: 0.024208  eta: 0h15m  tot: 0h13m31s  (46.4%)32.8%  lr: 0.026600  loss: 0.024181  eta: 0h15m  tot: 0h13m34s  (46.6%)33.1%  lr: 0.026576  loss: 0.024170  eta: 0h15m  tot: 0h13m35s  (46.6%)35.0%  lr: 0.026386  loss: 0.024270  eta: 0h15m  tot: 0h13m41s  (47.0%)35.2%  lr: 0.026361  loss: 0.024266  eta: 0h15m  tot: 0h13m42s  (47.0%)35.6%  lr: 0.026336  loss: 0.024246  eta: 0h15m  tot: 0h13m43s  (47.1%)35.9%  lr: 0.026303  loss: 0.024260  eta: 0h15m  tot: 0h13m44s  (47.2%)38.3%  lr: 0.026048  loss: 0.024323  eta: 0h15m  tot: 0h13m53s  (47.7%)38.5%  lr: 0.026031  loss: 0.024321  eta: 0h15m  tot: 0h13m53s  (47.7%)39.5%  lr: 0.025833  loss: 0.024335  eta: 0h15m  tot: 0h13m57s  (47.9%)41.4%  lr: 0.025618  loss: 0.024332  eta: 0h15m  tot: 0h14m4s  (48.3%)43.7%  lr: 0.025437  loss: 0.024380  eta: 0h14m  tot: 0h14m12s  (48.7%)43.8%  lr: 0.025429  loss: 0.024377  eta: 0h14m  tot: 0h14m13s  (48.8%)45.7%  lr: 0.025206  loss: 0.024352  eta: 0h14m  tot: 0h14m18s  (49.1%)47.1%  lr: 0.025099  loss: 0.024355  eta: 0h14m  tot: 0h14m22s  (49.4%)48.2%  lr: 0.025016  loss: 0.024359  eta: 0h14m  tot: 0h14m26s  (49.6%)48.6%  lr: 0.024991  loss: 0.024346  eta: 0h14m  tot: 0h14m27s  (49.7%)h14m  tot: 0h14m33s  (50.1%)56.9%  lr: 0.024051  loss: 0.024444  eta: 0h14m  tot: 0h14m56s  (51.4%)58.6%  lr: 0.023869  loss: 0.024451  eta: 0h13m  tot: 0h15m2s  (51.7%)59.9%  lr: 0.023770  loss: 0.024447  eta: 0h13m  tot: 0h15m7s  (52.0%)60.6%  lr: 0.023696  loss: 0.024462  eta: 0h13m  tot: 0h15m9s  (52.1%)60.7%  lr: 0.023688  loss: 0.024465  eta: 0h13m  tot: 0h15m9s  (52.1%)61.8%  lr: 0.023556  loss: 0.024478  eta: 0h13m  tot: 0h15m12s  (52.4%)62.4%  lr: 0.023473  loss: 0.024494  eta: 0h13m  tot: 0h15m14s  (52.5%)m  tot: 0h15m18s  (52.8%)65.5%  lr: 0.023151  loss: 0.024508  eta: 0h13m  tot: 0h15m23s  (53.1%)68.0%  lr: 0.022912  loss: 0.024500  eta: 0h13m  tot: 0h15m31s  (53.6%)71.1%  lr: 0.022590  loss: 0.024507  eta: 0h13m  tot: 0h15m43s  (54.2%)71.9%  lr: 0.022491  loss: 0.024510  eta: 0h13m  tot: 0h15m46s  (54.4%)72.1%  lr: 0.022483  loss: 0.024519  eta: 0h13m  tot: 0h15m47s  (54.4%)73.6%  lr: 0.022268  loss: 0.024538  eta: 0h12m  tot: 0h15m53s  (54.7%)74.2%  lr: 0.022202  loss: 0.024551  eta: 0h12m  tot: 0h15m55s  (54.8%)0s  (55.2%)78.5%  lr: 0.021674  loss: 0.024569  eta: 0h12m  tot: 0h16m8s  (55.7%)79.9%  lr: 0.021542  loss: 0.024570  eta: 0h12m  tot: 0h16m12s  (56.0%)81.2%  lr: 0.021410  loss: 0.024563  eta: 0h12m  tot: 0h16m16s  (56.2%)0.024565  eta: 0h12m  tot: 0h16m17s  (56.3%)82.0%  lr: 0.021303  loss: 0.024571  eta: 0h12m  tot: 0h16m18s  (56.4%)84.3%  lr: 0.021072  loss: 0.024589  eta: 0h12m  tot: 0h16m25s  (56.9%)85.2%  lr: 0.020948  loss: 0.024577  eta: 0h12m  tot: 0h16m28s  (57.0%)86.3%  lr: 0.020800  loss: 0.024569  eta: 0h12m  tot: 0h16m32s  (57.3%)86.4%  lr: 0.020791  loss: 0.024571  eta: 0h12m  tot: 0h16m32s  (57.3%)87.0%  lr: 0.020692  loss: 0.024575  eta: 0h12m  tot: 0h16m35s  (57.4%)88.5%  lr: 0.020569  loss: 0.024572  eta: 0h12m  tot: 0h16m40s  (57.7%)89.8%  lr: 0.020428  loss: 0.024574  eta: 0h11m  tot: 0h16m45s  (58.0%)0h11m  tot: 0h16m49s  (58.2%)  loss: 0.024583  eta: 0h11m  tot: 0h16m55s  (58.6%)h11m  tot: 0h17m7s  (59.4%)%  lr: 0.020007  loss: 0.024591  eta: 0h11m  tot: 0h17m14s  (59.9%)\n",
      " ---+++                Epoch    2 Train error : 0.02449718 +++--- ���\n",
      "Training epoch 3: 0.02 0.01\n",
      "Epoch: 100.0%  lr: 0.010000  loss: 0.021539  eta: 0h5m  tot: 0h22m37s  (80.0%).1%  lr: 0.019967  loss: 0.021802  eta: 0h9m  tot: 0h17m15s  (60.0%)6.2%  lr: 0.019241  loss: 0.021271  eta: 0h9m  tot: 0h17m33s  (61.2%)8.4%  lr: 0.019010  loss: 0.021301  eta: 0h9m  tot: 0h17m39s  (61.7%)9.6%  lr: 0.018894  loss: 0.021275  eta: 0h9m  tot: 0h17m44s  (61.9%)11.4%  lr: 0.018663  loss: 0.021322  eta: 0h9m  tot: 0h17m50s  (62.3%)m  tot: 0h17m52s  (62.4%)12.1%  lr: 0.018605  loss: 0.021353  eta: 0h9m  tot: 0h17m53s  (62.4%)15.4%  lr: 0.018300  loss: 0.021313  eta: 0h9m  tot: 0h18m5s  (63.1%)16.0%  lr: 0.018242  loss: 0.021299  eta: 0h9m  tot: 0h18m7s  (63.2%)18.0%  lr: 0.017995  loss: 0.021234  eta: 0h9m  tot: 0h18m13s  (63.6%)18.9%  lr: 0.017879  loss: 0.021165  eta: 0h9m  tot: 0h18m15s  (63.8%)20.0%  lr: 0.017780  loss: 0.021168  eta: 0h9m  tot: 0h18m19s  (64.0%)21.0%  lr: 0.017657  loss: 0.021179  eta: 0h9m  tot: 0h18m22s  (64.2%)24.1%  lr: 0.017467  loss: 0.021209  eta: 0h9m  tot: 0h18m31s  (64.8%)24.3%  lr: 0.017450  loss: 0.021210  eta: 0h9m  tot: 0h18m31s  (64.9%)m  tot: 0h18m34s  (65.0%)25.7%  lr: 0.017244  loss: 0.021265  eta: 0h9m  tot: 0h18m36s  (65.1%)  loss: 0.021272  eta: 0h9m  tot: 0h18m37s  (65.2%)27.1%  lr: 0.017046  loss: 0.021300  eta: 0h9m  tot: 0h18m41s  (65.4%)30.5%  lr: 0.016782  loss: 0.021282  eta: 0h9m  tot: 0h18m53s  (66.1%)%  lr: 0.016576  loss: 0.021334  eta: 0h9m  tot: 0h18m59s  (66.4%)34.0%  lr: 0.016353  loss: 0.021339  eta: 0h8m  tot: 0h19m4s  (66.8%)34.7%  lr: 0.016328  loss: 0.021322  eta: 0h8m  tot: 0h19m6s  (66.9%)0h8m  tot: 0h19m17s  (67.7%)38.7%  lr: 0.015899  loss: 0.021336  eta: 0h8m  tot: 0h19m18s  (67.7%)%)41.5%  lr: 0.015643  loss: 0.021341  eta: 0h8m  tot: 0h19m27s  (68.3%)0h8m  tot: 0h19m32s  (68.6%)43.9%  lr: 0.015470  loss: 0.021333  eta: 0h8m  tot: 0h19m36s  (68.8%)48.0%  lr: 0.015066  loss: 0.021394  eta: 0h8m  tot: 0h19m51s  (69.6%)49.0%  lr: 0.015000  loss: 0.021378  eta: 0h8m  tot: 0h19m54s  (69.8%)51.4%  lr: 0.014835  loss: 0.021388  eta: 0h8m  tot: 0h20m1s  (70.3%)54.1%  lr: 0.014521  loss: 0.021399  eta: 0h7m  tot: 0h20m9s  (70.8%)55.7%  lr: 0.014373  loss: 0.021408  eta: 0h7m  tot: 0h20m14s  (71.1%)55.8%  lr: 0.014356  loss: 0.021411  eta: 0h7m  tot: 0h20m15s  (71.2%)56.6%  lr: 0.014315  loss: 0.021428  eta: 0h7m  tot: 0h20m18s  (71.3%)%)61.0%  lr: 0.013812  loss: 0.021437  eta: 0h7m  tot: 0h20m34s  (72.2%)61.9%  lr: 0.013762  loss: 0.021446  eta: 0h7m  tot: 0h20m37s  (72.4%)%  lr: 0.013572  loss: 0.021445  eta: 0h7m  tot: 0h20m43s  (72.8%)65.0%  lr: 0.013465  loss: 0.021443  eta: 0h7m  tot: 0h20m46s  (73.0%)65.8%  lr: 0.013399  loss: 0.021437  eta: 0h7m  tot: 0h20m48s  (73.2%)65.9%  lr: 0.013391  loss: 0.021440  eta: 0h7m  tot: 0h20m49s  (73.2%)68.4%  lr: 0.013086  loss: 0.021443  eta: 0h7m  tot: 0h20m56s  (73.7%)68.7%  lr: 0.013061  loss: 0.021437  eta: 0h7m  tot: 0h20m57s  (73.7%)69.2%  lr: 0.013036  loss: 0.021449  eta: 0h7m  tot: 0h20m58s  (73.8%)70.2%  lr: 0.012921  loss: 0.021477  eta: 0h6m  tot: 0h21m2s  (74.0%)71.7%  lr: 0.012805  loss: 0.021478  eta: 0h6m  tot: 0h21m7s  (74.3%)74.5%  lr: 0.012500  loss: 0.021492  eta: 0h6m  tot: 0h21m18s  (74.9%)77.9%  lr: 0.012227  loss: 0.021520  eta: 0h6m  tot: 0h21m29s  (75.6%)80.1%  lr: 0.011930  loss: 0.021528  eta: 0h6m  tot: 0h21m35s  (76.0%)80.7%  lr: 0.011848  loss: 0.021536  eta: 0h6m  tot: 0h21m37s  (76.1%)83.2%  lr: 0.011485  loss: 0.021524  eta: 0h6m  tot: 0h21m44s  (76.6%)87.3%  lr: 0.010891  loss: 0.021525  eta: 0h6m  tot: 0h21m59s  (77.5%)87.5%  lr: 0.010866  loss: 0.021527  eta: 0h6m  tot: 0h21m59s  (77.5%)89.4%  lr: 0.010660  loss: 0.021534  eta: 0h6m  tot: 0h22m6s  (77.9%)89.8%  lr: 0.010594  loss: 0.021539  eta: 0h5m  tot: 0h22m8s  (78.0%)91.0%  lr: 0.010437  loss: 0.021531  eta: 0h5m  tot: 0h22m12s  (78.2%)91.4%  lr: 0.010388  loss: 0.021530  eta: 0h5m  tot: 0h22m13s  (78.3%)21s  (78.8%)79.0%)h22m27s  (79.3%)22m28s  (79.3%)m  tot: 0h22m34s  (79.8%)0h5m  tot: 0h22m35s  (79.8%)\n",
      " ---+++                Epoch    3 Train error : 0.02149667 +++--- ���\n",
      "Training epoch 4: 0.01 0.01\n"
     ]
    },
    {
     "name": "stdout",
     "output_type": "stream",
     "text": [
      "Epoch: 100.0%  lr: -0.000000  loss: 0.019568  eta: <1min   tot: 0h27m59s  (100.0%)lr: 0.009818  loss: 0.019522  eta: 0h4m  tot: 0h22m41s  (80.3%)6.4%  lr: 0.009282  loss: 0.019562  eta: 0h4m  tot: 0h22m56s  (81.3%)9.4%  lr: 0.009035  loss: 0.019569  eta: 0h4m  tot: 0h23m6s  (81.9%)11.4%  lr: 0.008820  loss: 0.019455  eta: 0h4m  tot: 0h23m13s  (82.3%)12.1%  lr: 0.008754  loss: 0.019484  eta: 0h4m  tot: 0h23m16s  (82.4%)12.9%  lr: 0.008696  loss: 0.019463  eta: 0h4m  tot: 0h23m19s  (82.6%)15.2%  lr: 0.008515  loss: 0.019465  eta: 0h4m  tot: 0h23m27s  (83.0%)15.7%  lr: 0.008449  loss: 0.019464  eta: 0h4m  tot: 0h23m28s  (83.1%)17.8%  lr: 0.008193  loss: 0.019536  eta: 0h4m  tot: 0h23m34s  (83.6%)18.2%  lr: 0.008144  loss: 0.019529  eta: 0h4m  tot: 0h23m35s  (83.6%) (83.7%)18.7%  lr: 0.008086  loss: 0.019542  eta: 0h4m  tot: 0h23m37s  (83.7%)19.0%  lr: 0.008028  loss: 0.019516  eta: 0h4m  tot: 0h23m38s  (83.8%)19.1%  lr: 0.008028  loss: 0.019526  eta: 0h4m  tot: 0h23m38s  (83.8%)23.4%  lr: 0.007459  loss: 0.019462  eta: 0h4m  tot: 0h23m51s  (84.7%)84.9%)%)  loss: 0.019477  eta: 0h3m  tot: 0h24m15s  (86.0%)31.1%  lr: 0.006700  loss: 0.019465  eta: 0h3m  tot: 0h24m18s  (86.2%)33.8%  lr: 0.006394  loss: 0.019453  eta: 0h3m  tot: 0h24m25s  (86.8%)35.0%  lr: 0.006205  loss: 0.019477  eta: 0h3m  tot: 0h24m29s  (87.0%)35.3%  lr: 0.006172  loss: 0.019461  eta: 0h3m  tot: 0h24m30s  (87.1%)87.1%)37.4%  lr: 0.005965  loss: 0.019461  eta: 0h3m  tot: 0h24m36s  (87.5%)39.1%  lr: 0.005759  loss: 0.019464  eta: 0h3m  tot: 0h24m41s  (87.8%)40.1%  lr: 0.005602  loss: 0.019457  eta: 0h3m  tot: 0h24m44s  (88.0%)%)  eta: 0h3m  tot: 0h24m51s  (88.4%)h3m  tot: 0h24m53s  (88.5%)43.3%  lr: 0.005264  loss: 0.019489  eta: 0h3m  tot: 0h24m57s  (88.7%)43.8%  lr: 0.005231  loss: 0.019486  eta: 0h3m  tot: 0h24m58s  (88.8%)43.9%  lr: 0.005223  loss: 0.019483  eta: 0h3m  tot: 0h24m59s  (88.8%)44.7%  lr: 0.005149  loss: 0.019488  eta: 0h2m  tot: 0h25m1s  (88.9%)25m3s  (89.0%)46.3%  lr: 0.005000  loss: 0.019511  eta: 0h2m  tot: 0h25m8s  (89.3%)46.8%  lr: 0.004950  loss: 0.019510  eta: 0h2m  tot: 0h25m9s  (89.4%)  loss: 0.019509  eta: 0h2m  tot: 0h25m11s  (89.5%)48.1%  lr: 0.004777  loss: 0.019506  eta: 0h2m  tot: 0h25m14s  (89.6%)50.4%  lr: 0.004571  loss: 0.019521  eta: 0h2m  tot: 0h25m20s  (90.1%)51.0%  lr: 0.004488  loss: 0.019531  eta: 0h2m  tot: 0h25m22s  (90.2%)52.9%  lr: 0.004233  loss: 0.019518  eta: 0h2m  tot: 0h25m28s  (90.6%)52.9%  lr: 0.004200  loss: 0.019514  eta: 0h2m  tot: 0h25m28s  (90.6%)53.5%  lr: 0.004150  loss: 0.019504  eta: 0h2m  tot: 0h25m30s  (90.7%)58.0%  lr: 0.003746  loss: 0.019514  eta: 0h2m  tot: 0h25m45s  (91.6%)59.9%  lr: 0.003564  loss: 0.019501  eta: 0h2m  tot: 0h25m52s  (92.0%)61.6%  lr: 0.003366  loss: 0.019498  eta: 0h2m  tot: 0h25m58s  (92.3%)61.7%  lr: 0.003358  loss: 0.019503  eta: 0h2m  tot: 0h25m58s  (92.3%)61.8%  lr: 0.003333  loss: 0.019503  eta: 0h2m  tot: 0h25m59s  (92.4%)62.3%  lr: 0.003309  loss: 0.019504  eta: 0h2m  tot: 0h26m1s  (92.5%)62.8%  lr: 0.003259  loss: 0.019502  eta: 0h2m  tot: 0h26m2s  (92.6%)64.0%  lr: 0.003127  loss: 0.019509  eta: 0h1m  tot: 0h26m6s  (92.8%)66.3%  lr: 0.002962  loss: 0.019521  eta: 0h1m  tot: 0h26m12s  (93.3%)70.6%  lr: 0.002541  loss: 0.019500  eta: 0h1m  tot: 0h26m25s  (94.1%)72.2%  lr: 0.002343  loss: 0.019504  eta: 0h1m  tot: 0h26m31s  (94.4%)72.8%  lr: 0.002294  loss: 0.019499  eta: 0h1m  tot: 0h26m33s  (94.6%)75.3%  lr: 0.002021  loss: 0.019504  eta: 0h1m  tot: 0h26m42s  (95.1%)78.7%  lr: 0.001634  loss: 0.019512  eta: 0h1m  tot: 0h26m54s  (95.7%)80.1%  lr: 0.001477  loss: 0.019526  eta: 0h1m  tot: 0h26m58s  (96.0%)81.9%  lr: 0.001337  loss: 0.019535  eta: <1min   tot: 0h27m3s  (96.4%)86.0%  lr: 0.000916  loss: 0.019549  eta: <1min   tot: 0h27m15s  (97.2%)87.0%  lr: 0.000800  loss: 0.019552  eta: <1min   tot: 0h27m19s  (97.4%)88.8%  lr: 0.000627  loss: 0.019552  eta: <1min   tot: 0h27m25s  (97.8%)89.1%  lr: 0.000602  loss: 0.019549  eta: <1min   tot: 0h27m26s  (97.8%)90.4%  lr: 0.000503  loss: 0.019540  eta: <1min   tot: 0h27m31s  (98.1%)91.2%  lr: 0.000437  loss: 0.019548  eta: <1min   tot: 0h27m34s  (98.2%)91.4%  lr: 0.000421  loss: 0.019549  eta: <1min   tot: 0h27m35s  (98.3%)\n",
      " ---+++                Epoch    4 Train error : 0.01958663 +++--- ���\n",
      "Saving model to file : starspace_embedding\n",
      "Saving model in tsv format : starspace_embedding.tsv\n"
     ]
    }
   ],
   "source": [
    "!starspace train -trainFile 'data/prepared_data_tfidf.tsv' -model starspace_embedding \\\n",
    "-trainMode 3 \\\n",
    "-adagrad true \\\n",
    "-ngrams 1 \\\n",
    "-epoch 5 \\\n",
    "-dim 100 \\\n",
    "-similarity \"cosine\" \\\n",
    "-minCount 2 \\\n",
    "-verbose true \\\n",
    "-fileFormat labelDoc \\\n",
    "-negSearchLimit 10 \\\n",
    "-lr 0.05 \\\n",
    "-thread 4"
   ]
  },
  {
   "cell_type": "code",
   "execution_count": 61,
   "metadata": {},
   "outputs": [],
   "source": [
    "answer_df = [sent[1] for sent in dataset]"
   ]
  },
  {
   "cell_type": "code",
   "execution_count": 64,
   "metadata": {},
   "outputs": [],
   "source": [
    "answer_pair = []\n",
    "for i in question_answer_id:\n",
    "    answer_pair.append(answer_df[i])"
   ]
  },
  {
   "cell_type": "code",
   "execution_count": 69,
   "metadata": {},
   "outputs": [],
   "source": [
    "answer_path = 'data/answer_list.txt'\n",
    "out = open(answer_path, 'w')\n",
    "for line in answer_pair:\n",
    "    print(line, file=out)\n",
    "out.close()"
   ]
  },
  {
   "cell_type": "code",
   "execution_count": 68,
   "metadata": {},
   "outputs": [
    {
     "data": {
      "text/plain": [
       "1212689"
      ]
     },
     "execution_count": 68,
     "metadata": {},
     "output_type": "execute_result"
    }
   ],
   "source": [
    "len(answer_pair)"
   ]
  },
  {
   "cell_type": "code",
   "execution_count": 16,
   "metadata": {},
   "outputs": [],
   "source": [
    "question_df = [sent[0] for sent in dataset]"
   ]
  },
  {
   "cell_type": "code",
   "execution_count": 17,
   "metadata": {},
   "outputs": [],
   "source": [
    "question_pair = []\n",
    "for i in question_answer_id:\n",
    "    question_pair.append(question_df[i])"
   ]
  },
  {
   "cell_type": "code",
   "execution_count": 18,
   "metadata": {},
   "outputs": [
    {
     "data": {
      "text/plain": [
       "1212689"
      ]
     },
     "execution_count": 18,
     "metadata": {},
     "output_type": "execute_result"
    }
   ],
   "source": [
    "len(question_pair)"
   ]
  },
  {
   "cell_type": "code",
   "execution_count": 19,
   "metadata": {},
   "outputs": [],
   "source": [
    "def load_embeddings(embeddings_path):\n",
    "    embeddings = {}\n",
    "    for line in open(embeddings_path):\n",
    "        word, *arr = line.split('\\t')\n",
    "        embeddings[word] = np.asarray(arr, dtype='float32')\n",
    "        \n",
    "    dim = len(arr)\n",
    "    \n",
    "    return embeddings, dim"
   ]
  },
  {
   "cell_type": "code",
   "execution_count": 20,
   "metadata": {},
   "outputs": [],
   "source": [
    "def question_to_vec(question, embeddings, dim):\n",
    "    question2vec = [embeddings[word] for word in question.split() if word in embeddings]\n",
    "    \n",
    "    if not question2vec:\n",
    "        return np.zeros(dim)\n",
    "    \n",
    "    question2vec = np.array(question2vec)\n",
    "    \n",
    "    return question2vec.mean(axis=0)"
   ]
  },
  {
   "cell_type": "code",
   "execution_count": 21,
   "metadata": {},
   "outputs": [],
   "source": [
    "starspace_embeddings, embeddings_dim = load_embeddings('starspace_embedding.tsv')"
   ]
  },
  {
   "cell_type": "code",
   "execution_count": 22,
   "metadata": {},
   "outputs": [],
   "source": [
    "question_matrix = np.zeros((len(question_pair), embeddings_dim), dtype=np.float32)\n",
    "\n",
    "for i, question in enumerate(question_pair):\n",
    "    question_matrix[i, :] = question_to_vec(question, starspace_embeddings, embeddings_dim)"
   ]
  },
  {
   "cell_type": "code",
   "execution_count": 25,
   "metadata": {},
   "outputs": [],
   "source": [
    "matrix_list = []\n",
    "matrix_size = 100000\n",
    "for i in range(int(np.ceil(len(question_matrix)/matrix_size))):\n",
    "    temp_matrix = question_matrix[i*matrix_size:(i+1)*matrix_size]\n",
    "    matrix_list.append(temp_matrix)\n",
    "\n",
    "for i in range(len(matrix_list)):\n",
    "    file_name = 'question_matrix_{}.pkl'.format(i+1)\n",
    "    pickle.dump(matrix_list[i], open(file_name, 'wb'))"
   ]
  }
 ],
 "metadata": {
  "kernelspec": {
   "display_name": "Python 3",
   "language": "python",
   "name": "python3"
  },
  "language_info": {
   "codemirror_mode": {
    "name": "ipython",
    "version": 3
   },
   "file_extension": ".py",
   "mimetype": "text/x-python",
   "name": "python",
   "nbconvert_exporter": "python",
   "pygments_lexer": "ipython3",
   "version": "3.6.5"
  }
 },
 "nbformat": 4,
 "nbformat_minor": 2
}
